{
 "cells": [
  {
   "cell_type": "markdown",
   "metadata": {},
   "source": [
    "# Dictionaries\n",
    "\n",
    "* Made up of key-value pairs\n",
    "* Keys are unique"
   ]
  },
  {
   "cell_type": "markdown",
   "metadata": {},
   "source": [
    "### Creating Dictionaries"
   ]
  },
  {
   "cell_type": "code",
   "execution_count": 1,
   "metadata": {},
   "outputs": [
    {
     "name": "stdout",
     "output_type": "stream",
     "text": [
      "<class 'dict'>\n"
     ]
    }
   ],
   "source": [
    "d={}\n",
    "print(type(d))"
   ]
  },
  {
   "cell_type": "code",
   "execution_count": 2,
   "metadata": {},
   "outputs": [
    {
     "name": "stdout",
     "output_type": "stream",
     "text": [
      "{'Mango': 100, 'Apple': 80}\n",
      "100\n",
      "80\n",
      "{'Mango': 100, 'Apple': 80, 'Guava': 40}\n",
      "{'Mango': 100, 'Apple': 80, 'Guava': 40, 'Grape': [10, 20]}\n",
      "{'Mango': 100, 'Apple': 80, 'Guava': 40, 'Grape': [10, 20], 'Pineapple': {'Small': 90, 'Large': 150}}\n",
      "90\n"
     ]
    }
   ],
   "source": [
    "d={'Mango':100,'Apple':80}\n",
    "print(d)\n",
    "print(d['Mango'])\n",
    "print(d['Apple'])\n",
    "d['Guava']=40\n",
    "print(d)\n",
    "d['Grape']=[10,20]\n",
    "print(d)\n",
    "d['Pineapple']={'Small':90,'Large':150}\n",
    "print(d)\n",
    "print(d['Pineapple']['Small'])"
   ]
  },
  {
   "cell_type": "markdown",
   "metadata": {},
   "source": [
    "### Functions of Dictionary\n",
    "* Keys\n",
    "* Values\n",
    "* Get\n",
    "* Items\n",
    "* Del\n",
    "* Update\n",
    "* Len\n",
    "* Clear"
   ]
  },
  {
   "cell_type": "code",
   "execution_count": 3,
   "metadata": {},
   "outputs": [
    {
     "name": "stdout",
     "output_type": "stream",
     "text": [
      "dict_keys(['Mango', 'Apple', 'Guava', 'Grape', 'Pineapple'])\n",
      "dict_values([100, 80, 40, [10, 20], {'Small': 90, 'Large': 150}])\n"
     ]
    }
   ],
   "source": [
    "print(d.keys())\n",
    "print(d.values())"
   ]
  },
  {
   "cell_type": "code",
   "execution_count": 4,
   "metadata": {},
   "outputs": [
    {
     "name": "stdout",
     "output_type": "stream",
     "text": [
      "100\n",
      "None\n"
     ]
    }
   ],
   "source": [
    "print(d.get(\"Mango\"))\n",
    "# print(d['Mangoes']) # Throws error\n",
    "print(d.get(\"Mangoes\")) # Returns None"
   ]
  },
  {
   "cell_type": "code",
   "execution_count": 5,
   "metadata": {},
   "outputs": [
    {
     "name": "stdout",
     "output_type": "stream",
     "text": [
      "[('Mango', 100), ('Apple', 80), ('Guava', 40), ('Grape', [10, 20]), ('Pineapple', {'Small': 90, 'Large': 150})]\n"
     ]
    }
   ],
   "source": [
    "li=list(d.items())\n",
    "print(li)"
   ]
  },
  {
   "cell_type": "code",
   "execution_count": 6,
   "metadata": {},
   "outputs": [
    {
     "name": "stdout",
     "output_type": "stream",
     "text": [
      "{'Mango': 100, 'Apple': 80, 'Guava': 40, 'Grape': [10, 20]}\n"
     ]
    }
   ],
   "source": [
    "del d['Pineapple']\n",
    "print(d)"
   ]
  },
  {
   "cell_type": "code",
   "execution_count": 7,
   "metadata": {},
   "outputs": [
    {
     "name": "stdout",
     "output_type": "stream",
     "text": [
      "{'Mango': 100, 'Apple': 80, 'Guava': 40, 'Grape': [10, 20], 'Strwberry': 180}\n"
     ]
    }
   ],
   "source": [
    "d2={\"Strwberry\":180}\n",
    "d.update(d2)\n",
    "print(d)"
   ]
  },
  {
   "cell_type": "code",
   "execution_count": 8,
   "metadata": {},
   "outputs": [
    {
     "name": "stdout",
     "output_type": "stream",
     "text": [
      "5\n"
     ]
    }
   ],
   "source": [
    "print(len(d))"
   ]
  },
  {
   "cell_type": "code",
   "execution_count": 9,
   "metadata": {},
   "outputs": [
    {
     "name": "stdout",
     "output_type": "stream",
     "text": [
      "0\n"
     ]
    }
   ],
   "source": [
    "d.clear()\n",
    "print(len(d))"
   ]
  },
  {
   "cell_type": "markdown",
   "metadata": {},
   "source": [
    "### Create Dictionary with Lists"
   ]
  },
  {
   "cell_type": "code",
   "execution_count": 10,
   "metadata": {},
   "outputs": [
    {
     "name": "stdout",
     "output_type": "stream",
     "text": [
      "{'Mango': 100, 'Apple': 80, 'Guava': 60, 'Strawberry': 180}\n",
      "<class 'dict'>\n"
     ]
    }
   ],
   "source": [
    "l1=[\"Mango\",\"Apple\",\"Guava\",\"Strawberry\"]\n",
    "l2=[100,80,60,180]\n",
    "d=dict(zip(l1,l2))\n",
    "print(d)\n",
    "print(type(d))"
   ]
  },
  {
   "cell_type": "code",
   "execution_count": null,
   "metadata": {},
   "outputs": [],
   "source": []
  }
 ],
 "metadata": {
  "kernelspec": {
   "display_name": "Python 3",
   "language": "python",
   "name": "python3"
  },
  "language_info": {
   "codemirror_mode": {
    "name": "ipython",
    "version": 3
   },
   "file_extension": ".py",
   "mimetype": "text/x-python",
   "name": "python",
   "nbconvert_exporter": "python",
   "pygments_lexer": "ipython3",
   "version": "3.7.1"
  }
 },
 "nbformat": 4,
 "nbformat_minor": 2
}
