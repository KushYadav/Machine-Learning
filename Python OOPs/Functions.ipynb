{
 "cells": [
  {
   "cell_type": "markdown",
   "metadata": {},
   "source": [
    "# Functions\n",
    "\n",
    "Functions are reusable piece of programs. They allow you to give a name to a block of statements, allowing you to\n",
    "run that block using the specified name anywhere in your program and any number of times. This is known as calling\n",
    "the function. We have used many built in functions such as len and range."
   ]
  },
  {
   "cell_type": "code",
   "execution_count": 1,
   "metadata": {},
   "outputs": [
    {
     "name": "stdout",
     "output_type": "stream",
     "text": [
      "The current season is summer\n",
      "The current season is summer\n"
     ]
    }
   ],
   "source": [
    "def season():\n",
    "    print(\"The current season is summer\")\n",
    "\n",
    "season()\n",
    "season()"
   ]
  },
  {
   "cell_type": "markdown",
   "metadata": {},
   "source": [
    "### Passing Parameters"
   ]
  },
  {
   "cell_type": "code",
   "execution_count": 2,
   "metadata": {},
   "outputs": [
    {
     "name": "stdout",
     "output_type": "stream",
     "text": [
      "The current season is Rainy\n"
     ]
    }
   ],
   "source": [
    "def season(season):\n",
    "    print(\"The current season is {}\".format(season))\n",
    "season(\"Rainy\")"
   ]
  },
  {
   "cell_type": "code",
   "execution_count": 3,
   "metadata": {},
   "outputs": [
    {
     "name": "stdout",
     "output_type": "stream",
     "text": [
      "0 1 4 9 16 25 36 49 64 81 100 \n",
      "0 1 4 9 16 25 \n",
      "9 16 25 "
     ]
    }
   ],
   "source": [
    "def square(first=0,last=10):\n",
    "    for i in range(first,last+1):\n",
    "        print(i*i,end=\" \")\n",
    "square()\n",
    "print()\n",
    "square(last=5)\n",
    "print()\n",
    "square(first=3,last=5)\n"
   ]
  },
  {
   "cell_type": "markdown",
   "metadata": {},
   "source": [
    "### Return Statement"
   ]
  },
  {
   "cell_type": "code",
   "execution_count": 4,
   "metadata": {},
   "outputs": [
    {
     "name": "stdout",
     "output_type": "stream",
     "text": [
      "7\n"
     ]
    }
   ],
   "source": [
    "def add(a,b):\n",
    "    return a+b;\n",
    "x=add(2,5)\n",
    "print(x)"
   ]
  },
  {
   "cell_type": "code",
   "execution_count": 5,
   "metadata": {},
   "outputs": [
    {
     "name": "stdout",
     "output_type": "stream",
     "text": [
      "Wrapping Up\n",
      "3.3333333333333335\n",
      "Error\n",
      "Wrapping Up\n",
      "None\n"
     ]
    }
   ],
   "source": [
    "def div(a,b):\n",
    "    try:\n",
    "        return a/b\n",
    "    except:\n",
    "        print('Error')\n",
    "    finally:\n",
    "        print('Wrapping Up')\n",
    "\n",
    "print(div(10,3))\n",
    "print(div(10,0))"
   ]
  },
  {
   "cell_type": "markdown",
   "metadata": {},
   "source": [
    "### Local and Global Variables"
   ]
  },
  {
   "cell_type": "code",
   "execution_count": 6,
   "metadata": {},
   "outputs": [
    {
     "name": "stdout",
     "output_type": "stream",
     "text": [
      "5\n",
      "10\n"
     ]
    }
   ],
   "source": [
    "x=10\n",
    "def show():\n",
    "    x=5\n",
    "    print(x)\n",
    "\n",
    "show()\n",
    "print(x)"
   ]
  },
  {
   "cell_type": "code",
   "execution_count": 7,
   "metadata": {},
   "outputs": [
    {
     "name": "stdout",
     "output_type": "stream",
     "text": [
      "15\n",
      "15\n"
     ]
    }
   ],
   "source": [
    "x=10\n",
    "def show():\n",
    "    global x #Else throws error\n",
    "    x+=5\n",
    "    print(x)\n",
    "\n",
    "show()\n",
    "print(x)"
   ]
  },
  {
   "cell_type": "code",
   "execution_count": 8,
   "metadata": {},
   "outputs": [
    {
     "name": "stdout",
     "output_type": "stream",
     "text": [
      "10\n",
      "5\n",
      "10\n"
     ]
    }
   ],
   "source": [
    "x=10\n",
    "def show():\n",
    "    y=5\n",
    "    print(x)\n",
    "    print(y)\n",
    "\n",
    "show()\n",
    "print(x)\n",
    "# print(y) #throws error as local variable"
   ]
  },
  {
   "cell_type": "code",
   "execution_count": 9,
   "metadata": {},
   "outputs": [],
   "source": [
    "del x"
   ]
  },
  {
   "cell_type": "code",
   "execution_count": 10,
   "metadata": {},
   "outputs": [
    {
     "name": "stdout",
     "output_type": "stream",
     "text": [
      "15\n",
      "15\n"
     ]
    }
   ],
   "source": [
    "def outer():\n",
    "    x=10\n",
    "    def inner():\n",
    "        nonlocal x\n",
    "        x+=5\n",
    "        print(x)\n",
    "        \n",
    "    inner()\n",
    "    print(x)\n",
    "outer()"
   ]
  },
  {
   "cell_type": "markdown",
   "metadata": {},
   "source": [
    "### Default Arguments"
   ]
  },
  {
   "cell_type": "code",
   "execution_count": 11,
   "metadata": {},
   "outputs": [
    {
     "name": "stdout",
     "output_type": "stream",
     "text": [
      "Currently in New Delhi city, India. Weather is Rainy\n",
      "Currently in Chicago city, United States. Weather is Summer\n"
     ]
    }
   ],
   "source": [
    "def place(weather,city='New Delhi',country='India'):\n",
    "    print(\"Currently in {} city, {}. Weather is {}\".format(city,country,weather))\n",
    "    \n",
    "place('Rainy')\n",
    "place('Summer',country='United States',city='Chicago')"
   ]
  },
  {
   "cell_type": "markdown",
   "metadata": {},
   "source": [
    "### Packed Arguments\n",
    "\n",
    "1. Single astrisk => Tuple\n",
    "2. Double astrisk => Dictionary"
   ]
  },
  {
   "cell_type": "code",
   "execution_count": 12,
   "metadata": {},
   "outputs": [
    {
     "name": "stdout",
     "output_type": "stream",
     "text": [
      "()\n",
      "(1, 2, 'Hello')\n"
     ]
    }
   ],
   "source": [
    "def show(a,b,*args):\n",
    "    print(args)\n",
    "\n",
    "show(11,22)\n",
    "show(33,44,1,2,'Hello')"
   ]
  },
  {
   "cell_type": "code",
   "execution_count": 13,
   "metadata": {},
   "outputs": [
    {
     "name": "stdout",
     "output_type": "stream",
     "text": [
      "(1, 2, 'Hello')\n",
      "10\n",
      "{'city': 'New Delhi'}\n"
     ]
    }
   ],
   "source": [
    "def show(a,b,*args,c=10,**kwargs): # This Order should be maintained\n",
    "    print(args)\n",
    "    print(c)\n",
    "    print(kwargs)\n",
    "\n",
    "show(33,44,1,2,'Hello',city=\"New Delhi\")"
   ]
  },
  {
   "cell_type": "markdown",
   "metadata": {},
   "source": [
    "### Lambda Functions"
   ]
  },
  {
   "cell_type": "code",
   "execution_count": 14,
   "metadata": {},
   "outputs": [
    {
     "name": "stdout",
     "output_type": "stream",
     "text": [
      "30\n",
      "<class 'function'>\n"
     ]
    }
   ],
   "source": [
    "add= lambda a,b: a+b\n",
    "print(add(10,20))\n",
    "print(type(add))"
   ]
  },
  {
   "cell_type": "code",
   "execution_count": 15,
   "metadata": {},
   "outputs": [
    {
     "name": "stdout",
     "output_type": "stream",
     "text": [
      "[('Cloudy', 30), ('Rainy', 20), ('Sunny', 40)]\n",
      "[('Rainy', 20), ('Cloudy', 30), ('Sunny', 40)]\n"
     ]
    }
   ],
   "source": [
    "a=[('Sunny',40),('Rainy',20),('Cloudy',30)]\n",
    "a=sorted(a,key=lambda x:x[0])\n",
    "print(a)\n",
    "a=sorted(a,key=lambda x:x[1])\n",
    "print(a)"
   ]
  },
  {
   "cell_type": "markdown",
   "metadata": {},
   "source": [
    "### Decorators"
   ]
  },
  {
   "cell_type": "code",
   "execution_count": 16,
   "metadata": {},
   "outputs": [],
   "source": [
    "users={\n",
    "    'King':'12345',\n",
    "    'Queen':'54321'\n",
    "}"
   ]
  },
  {
   "cell_type": "code",
   "execution_count": 17,
   "metadata": {},
   "outputs": [],
   "source": [
    "def authentication(username,password):\n",
    "    if username in users and users[username]== password:\n",
    "        print('Authenticated')\n",
    "    else:\n",
    "        print('Not Authenticated')"
   ]
  },
  {
   "cell_type": "code",
   "execution_count": 18,
   "metadata": {},
   "outputs": [
    {
     "name": "stdout",
     "output_type": "stream",
     "text": [
      "Authenticated\n"
     ]
    }
   ],
   "source": [
    "authentication('King','12345')"
   ]
  },
  {
   "cell_type": "code",
   "execution_count": 19,
   "metadata": {},
   "outputs": [],
   "source": [
    "def protected_add(func):\n",
    "    def wrapper(username,password,*args,**kwargs):\n",
    "        if username in users and users[username]== password:\n",
    "            return func(*args,**kwargs)\n",
    "        else:\n",
    "            print('Not Authenticated')\n",
    "    return wrapper"
   ]
  },
  {
   "cell_type": "code",
   "execution_count": 20,
   "metadata": {},
   "outputs": [
    {
     "name": "stdout",
     "output_type": "stream",
     "text": [
      "30\n"
     ]
    }
   ],
   "source": [
    "def add(a,b):\n",
    "    return a+b\n",
    "\n",
    "add=protected_add(add)\n",
    "print(add('King','12345',10,20))"
   ]
  },
  {
   "cell_type": "code",
   "execution_count": 21,
   "metadata": {},
   "outputs": [],
   "source": [
    "@protected_add\n",
    "def add(a,b):\n",
    "    return a+b"
   ]
  },
  {
   "cell_type": "code",
   "execution_count": 22,
   "metadata": {},
   "outputs": [
    {
     "name": "stdout",
     "output_type": "stream",
     "text": [
      "30\n"
     ]
    }
   ],
   "source": [
    "print(add('King','12345',10,20))"
   ]
  }
 ],
 "metadata": {
  "kernelspec": {
   "display_name": "Python 3",
   "language": "python",
   "name": "python3"
  },
  "language_info": {
   "codemirror_mode": {
    "name": "ipython",
    "version": 3
   },
   "file_extension": ".py",
   "mimetype": "text/x-python",
   "name": "python",
   "nbconvert_exporter": "python",
   "pygments_lexer": "ipython3",
   "version": "3.7.1"
  }
 },
 "nbformat": 4,
 "nbformat_minor": 2
}
