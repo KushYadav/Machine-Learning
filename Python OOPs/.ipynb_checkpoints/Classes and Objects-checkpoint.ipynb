{
 "cells": [
  {
   "cell_type": "markdown",
   "metadata": {},
   "source": [
    "### Classes and Objects"
   ]
  },
  {
   "cell_type": "code",
   "execution_count": 5,
   "metadata": {},
   "outputs": [],
   "source": [
    "class Car:\n",
    "    pass"
   ]
  },
  {
   "cell_type": "code",
   "execution_count": 6,
   "metadata": {},
   "outputs": [
    {
     "name": "stdout",
     "output_type": "stream",
     "text": [
      "<class '__main__.Car'>\n"
     ]
    }
   ],
   "source": [
    "print(type(Car()))"
   ]
  },
  {
   "cell_type": "code",
   "execution_count": 22,
   "metadata": {},
   "outputs": [
    {
     "name": "stdout",
     "output_type": "stream",
     "text": [
      "John height is 193cm.\n"
     ]
    }
   ],
   "source": [
    "class Person:\n",
    "    \n",
    "    # Class variable, common for all object of same class.\n",
    "    species=\"Homesapien\"\n",
    "    \n",
    "    def __init__(self,name,height,weight):\n",
    "        \n",
    "        # Instance variables, different for every instance of class.\n",
    "        self.name=name\n",
    "        self.height=height\n",
    "        self.weight=weight\n",
    "    \n",
    "    def print_height(self):\n",
    "        print(\"{} height is {}cm.\".format(self.name,self.height))\n",
    "\n",
    "p=Person(\"John\",193,70)\n",
    "p.print_height() # Don't make a variable and function of same name."
   ]
  },
  {
   "cell_type": "markdown",
   "metadata": {},
   "source": [
    "### Instance vs Class Variables"
   ]
  },
  {
   "cell_type": "code",
   "execution_count": 26,
   "metadata": {},
   "outputs": [
    {
     "name": "stdout",
     "output_type": "stream",
     "text": [
      "German Shepherd\n",
      "['High Jump', 'Roll Over', 'Long Jump', 'Stand on two feet']\n",
      "Golden Retriever\n",
      "['High Jump', 'Roll Over', 'Long Jump', 'Stand on two feet']\n"
     ]
    }
   ],
   "source": [
    "class Dog:\n",
    "    color='Brown'\n",
    "    #Common for all data members of class.\n",
    "    activities = []\n",
    "    \n",
    "    def __init__(self,breed):\n",
    "        self.breed=breed\n",
    "    \n",
    "    def add_activity(self,act):\n",
    "        self.activities.append(act)\n",
    "        \n",
    "    def do_activity(self):\n",
    "        print(self.breed)\n",
    "        print(self.activities)\n",
    "        \n",
    "d1=Dog(\"German Shepherd\")\n",
    "d2=Dog(\"Golden Retriever\")\n",
    "\n",
    "d1.add_activity(\"High Jump\")\n",
    "d1.add_activity(\"Roll Over\")\n",
    "\n",
    "d2.add_activity(\"Long Jump\")\n",
    "d2.add_activity(\"Stand on two feet\")\n",
    "\n",
    "d1.do_activity()\n",
    "d2.do_activity()"
   ]
  },
  {
   "cell_type": "code",
   "execution_count": 27,
   "metadata": {},
   "outputs": [
    {
     "name": "stdout",
     "output_type": "stream",
     "text": [
      "German Shepherd\n",
      "['High Jump', 'Roll Over']\n",
      "Golden Retriever\n",
      "['Long Jump', 'Stand on two feet']\n"
     ]
    }
   ],
   "source": [
    "class Dog:\n",
    "    color='Brown'\n",
    "    \n",
    "    def __init__(self,breed):\n",
    "        self.activities=[]\n",
    "        self.breed=breed\n",
    "    \n",
    "    def add_activity(self,act):\n",
    "        self.activities.append(act)\n",
    "        \n",
    "    def do_activity(self):\n",
    "        print(self.breed)\n",
    "        print(self.activities)\n",
    "        \n",
    "d1=Dog(\"German Shepherd\")\n",
    "d2=Dog(\"Golden Retriever\")\n",
    "\n",
    "d1.add_activity(\"High Jump\")\n",
    "d1.add_activity(\"Roll Over\")\n",
    "\n",
    "d2.add_activity(\"Long Jump\")\n",
    "d2.add_activity(\"Stand on two feet\")\n",
    "\n",
    "d1.do_activity()\n",
    "d2.do_activity()"
   ]
  },
  {
   "cell_type": "markdown",
   "metadata": {},
   "source": [
    "### Access Modifiers"
   ]
  },
  {
   "cell_type": "code",
   "execution_count": 40,
   "metadata": {},
   "outputs": [
    {
     "name": "stdout",
     "output_type": "stream",
     "text": [
      "Age of John is 21cm\n"
     ]
    }
   ],
   "source": [
    "class Person:\n",
    "    \n",
    "    def __init__(self,name,height,weight,age):\n",
    "        self.name=name\n",
    "        self.height=height\n",
    "        self.weight=weight\n",
    "        self.age=age\n",
    "    \n",
    "    # Use __ for making the function private\n",
    "    def __print_age(self):\n",
    "        print(\"Age of {} is {}cm\".format(self.name,self.age))\n",
    "        \n",
    "    def print_age(self):\n",
    "        \"\"\"Print the Age of the Person\"\"\"\n",
    "        self.__print_age()\n",
    "        \n",
    "p=Person(\"John\",193,70,21)\n",
    "# p.__print_age() #Throws error\n",
    "p.print_age() # Called through public method\n",
    "p.print_age?"
   ]
  },
  {
   "cell_type": "markdown",
   "metadata": {},
   "source": [
    "### Inheritance"
   ]
  },
  {
   "cell_type": "code",
   "execution_count": null,
   "metadata": {},
   "outputs": [],
   "source": []
  }
 ],
 "metadata": {
  "kernelspec": {
   "display_name": "Python 3",
   "language": "python",
   "name": "python3"
  },
  "language_info": {
   "codemirror_mode": {
    "name": "ipython",
    "version": 3
   },
   "file_extension": ".py",
   "mimetype": "text/x-python",
   "name": "python",
   "nbconvert_exporter": "python",
   "pygments_lexer": "ipython3",
   "version": "3.7.1"
  }
 },
 "nbformat": 4,
 "nbformat_minor": 2
}
