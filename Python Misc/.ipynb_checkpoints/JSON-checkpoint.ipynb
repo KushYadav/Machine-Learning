{
 "cells": [
  {
   "cell_type": "markdown",
   "metadata": {},
   "source": [
    "## JSON\n",
    "* Lightweight.\n",
    "* Widely used in client-server model of web.\n",
    "\n",
    "* Serialise => Convert object in RAM to file in ROM {Python => JSON File}. Eg: Dump\n",
    "* Deserialise => Convert file in ROM to object in RAM {JSON File => program}. Eg: Load"
   ]
  },
  {
   "cell_type": "code",
   "execution_count": 1,
   "metadata": {},
   "outputs": [],
   "source": [
    "import json"
   ]
  },
  {
   "cell_type": "code",
   "execution_count": 2,
   "metadata": {},
   "outputs": [],
   "source": [
    "book={\n",
    "    'name':'Learn Python',\n",
    "    'pages':320,\n",
    "    'authors':[\n",
    "        {\n",
    "            'name':'Patrick Bateman',\n",
    "            'age':27\n",
    "        },\n",
    "        {\n",
    "            'name':'Paul Allen',\n",
    "            'age':28\n",
    "        }\n",
    "    ]\n",
    "}"
   ]
  },
  {
   "cell_type": "code",
   "execution_count": 3,
   "metadata": {},
   "outputs": [
    {
     "name": "stdout",
     "output_type": "stream",
     "text": [
      "<class 'dict'>\n",
      "{'name': 'Patrick Bateman', 'age': 27}\n"
     ]
    }
   ],
   "source": [
    "print(type(book))\n",
    "print(book['authors'][0])"
   ]
  },
  {
   "cell_type": "code",
   "execution_count": 4,
   "metadata": {},
   "outputs": [],
   "source": [
    "with open (\"MyJsonFile.json\",'w') as f:\n",
    "    json.dump(book,f)"
   ]
  },
  {
   "cell_type": "code",
   "execution_count": 5,
   "metadata": {},
   "outputs": [
    {
     "name": "stdout",
     "output_type": "stream",
     "text": [
      "{\"name\": \"Learn Python\", \"pages\": 320, \"authors\": [{\"name\": \"Patrick Bateman\", \"age\": 27}, {\"name\": \"Paul Allen\", \"age\": 28}]}\n",
      "<class 'str'>\n"
     ]
    }
   ],
   "source": [
    "s=json.dumps(book)\n",
    "print(s)\n",
    "print(type(s))"
   ]
  },
  {
   "cell_type": "code",
   "execution_count": 6,
   "metadata": {},
   "outputs": [
    {
     "name": "stdout",
     "output_type": "stream",
     "text": [
      "{'name': 'Learn Python', 'pages': 320, 'authors': [{'name': 'Patrick Bateman', 'age': 27}, {'name': 'Paul Allen', 'age': 28}]}\n",
      "<class 'dict'>\n"
     ]
    }
   ],
   "source": [
    "j=json.loads(s)\n",
    "print(j)\n",
    "print(type(j))"
   ]
  },
  {
   "cell_type": "code",
   "execution_count": 7,
   "metadata": {},
   "outputs": [
    {
     "name": "stdout",
     "output_type": "stream",
     "text": [
      "{'name': 'Learn Python', 'pages': 320, 'authors': [{'name': 'Patrick Bateman', 'age': 27}, {'name': 'Paul Allen', 'age': 28}]}\n",
      "{'authors': [{'age': 27, 'name': 'Patrick Bateman'},\n",
      "             {'age': 28, 'name': 'Paul Allen'}],\n",
      " 'name': 'Learn Python',\n",
      " 'pages': 320}\n"
     ]
    }
   ],
   "source": [
    "import pprint\n",
    "\n",
    "with open('MyJsonFile.json','r') as f:\n",
    "    data=json.load(f)\n",
    "    print(data)\n",
    "    pprint.pprint(data)"
   ]
  }
 ],
 "metadata": {
  "kernelspec": {
   "display_name": "Python 3",
   "language": "python",
   "name": "python3"
  },
  "language_info": {
   "codemirror_mode": {
    "name": "ipython",
    "version": 3
   },
   "file_extension": ".py",
   "mimetype": "text/x-python",
   "name": "python",
   "nbconvert_exporter": "python",
   "pygments_lexer": "ipython3",
   "version": "3.7.1"
  }
 },
 "nbformat": 4,
 "nbformat_minor": 2
}
