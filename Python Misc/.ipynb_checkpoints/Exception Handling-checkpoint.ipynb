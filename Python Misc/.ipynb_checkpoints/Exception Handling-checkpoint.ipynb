{
 "cells": [
  {
   "cell_type": "markdown",
   "metadata": {},
   "source": [
    "## Exception Handling"
   ]
  },
  {
   "cell_type": "code",
   "execution_count": 1,
   "metadata": {},
   "outputs": [
    {
     "name": "stdout",
     "output_type": "stream",
     "text": [
      "Something went wrong\n"
     ]
    }
   ],
   "source": [
    "try:\n",
    "    f=open(\"AnyRandomFile.txt\",'r')\n",
    "except:\n",
    "    print(\"Something went wrong\")"
   ]
  },
  {
   "cell_type": "code",
   "execution_count": 2,
   "metadata": {},
   "outputs": [
    {
     "name": "stdout",
     "output_type": "stream",
     "text": [
      "Zero Division Exception\n"
     ]
    }
   ],
   "source": [
    "try:\n",
    "    a=1/0\n",
    "except ZeroDivisionError:\n",
    "    print(\"Zero Division Exception\")\n",
    "except Exception:\n",
    "    print(\"Generalized Exception\")"
   ]
  },
  {
   "cell_type": "code",
   "execution_count": 3,
   "metadata": {},
   "outputs": [
    {
     "name": "stdout",
     "output_type": "stream",
     "text": [
      "Generalized Exception\n"
     ]
    }
   ],
   "source": [
    "try:\n",
    "    f=open(\"AnyRandomFile.txt\",'r')\n",
    "\n",
    "except ZeroDivisionError:\n",
    "    print(\"Zero Division Exception\")\n",
    "except Exception:\n",
    "    print(\"Generalized Exception\")"
   ]
  },
  {
   "cell_type": "code",
   "execution_count": 4,
   "metadata": {},
   "outputs": [
    {
     "name": "stdout",
     "output_type": "stream",
     "text": [
      "Enter name: K\n",
      "Enter valid name\n"
     ]
    }
   ],
   "source": [
    "try:\n",
    "    name=input(\"Enter name: \")\n",
    "    if(len(name)<=3):\n",
    "        raise Exception\n",
    "except Exception:\n",
    "    print(\"Enter valid name\")\n",
    "else:\n",
    "    print(\"Done!!!\")"
   ]
  },
  {
   "cell_type": "code",
   "execution_count": 5,
   "metadata": {},
   "outputs": [
    {
     "name": "stdout",
     "output_type": "stream",
     "text": [
      "Enter name: Kush\n",
      "Done!!!\n",
      "Always executed\n"
     ]
    }
   ],
   "source": [
    "try:\n",
    "    name=input(\"Enter name: \")\n",
    "    if(len(name)<=3):\n",
    "        raise Exception\n",
    "except Exception:\n",
    "    print(\"Enter valid name\")\n",
    "else:\n",
    "    print(\"Done!!!\")\n",
    "finally:\n",
    "    print(\"Always executed\")"
   ]
  }
 ],
 "metadata": {
  "kernelspec": {
   "display_name": "Python 3",
   "language": "python",
   "name": "python3"
  },
  "language_info": {
   "codemirror_mode": {
    "name": "ipython",
    "version": 3
   },
   "file_extension": ".py",
   "mimetype": "text/x-python",
   "name": "python",
   "nbconvert_exporter": "python",
   "pygments_lexer": "ipython3",
   "version": "3.7.1"
  }
 },
 "nbformat": 4,
 "nbformat_minor": 2
}
