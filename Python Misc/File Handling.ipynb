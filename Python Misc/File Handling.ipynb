{
 "cells": [
  {
   "cell_type": "markdown",
   "metadata": {},
   "source": [
    "### File Handling\n",
    "\n",
    "* Read Only(r) \n",
    "* Read and Write(r+) => Override, can't create new file. Cursor at the beginning.\n",
    "* Write Only(w)\n",
    "* Write and Read(w+) => Override, can create new file. Cursor at the beginning.\n",
    "* Append Only(a)\n",
    "* Append and Read(a+) => Append, can create new file. Cursor at the end."
   ]
  },
  {
   "cell_type": "markdown",
   "metadata": {},
   "source": [
    "### Write"
   ]
  },
  {
   "cell_type": "code",
   "execution_count": 1,
   "metadata": {},
   "outputs": [],
   "source": [
    "f=open(\"Sample.txt\",'w')\n",
    "content=\"Hello World\"\n",
    "f.write(content)\n",
    "f.close()"
   ]
  },
  {
   "cell_type": "code",
   "execution_count": 2,
   "metadata": {},
   "outputs": [],
   "source": [
    "f=open(\"Sample.txt\",'w')\n",
    "content=\"Hello World\\n\"\n",
    "li=[content]*3\n",
    "f.writelines(li)\n",
    "f.close()"
   ]
  },
  {
   "cell_type": "markdown",
   "metadata": {},
   "source": [
    "### Read"
   ]
  },
  {
   "cell_type": "code",
   "execution_count": 3,
   "metadata": {},
   "outputs": [
    {
     "name": "stdout",
     "output_type": "stream",
     "text": [
      "Hello World\n",
      "\n",
      "<class 'str'>\n",
      "['Hello World\\n']\n",
      "<class 'list'>\n"
     ]
    }
   ],
   "source": [
    "f=open(\"Sample.txt\",'r')\n",
    "print(f.readline())\n",
    "print(type(f.readline()))\n",
    "print(f.readlines())\n",
    "print(type(f.readlines()))\n",
    "f.close()"
   ]
  },
  {
   "cell_type": "code",
   "execution_count": 4,
   "metadata": {},
   "outputs": [
    {
     "name": "stdout",
     "output_type": "stream",
     "text": [
      "False\n",
      "Hello World\n",
      "Hello World\n",
      "Hello World\n",
      "\n"
     ]
    }
   ],
   "source": [
    "with open(\"Sample.txt\",'r') as f:\n",
    "#     f.close()\n",
    "    print(f.closed)\n",
    "    print(f.read())\n",
    "    # Automatically closed the file at the end of block."
   ]
  },
  {
   "cell_type": "code",
   "execution_count": 5,
   "metadata": {},
   "outputs": [
    {
     "name": "stdout",
     "output_type": "stream",
     "text": [
      " World\n",
      "Hello World\n",
      "Hello World\n",
      "\n"
     ]
    }
   ],
   "source": [
    "with open(\"Sample.txt\",'r') as f:\n",
    "    f.seek(5)\n",
    "    print(f.read())"
   ]
  },
  {
   "cell_type": "markdown",
   "metadata": {},
   "source": [
    "### Append"
   ]
  },
  {
   "cell_type": "code",
   "execution_count": 6,
   "metadata": {},
   "outputs": [],
   "source": [
    "f=open(\"Sample.txt\",'a')\n",
    "f.write(\"Bye World\\n\")\n",
    "f.close()"
   ]
  },
  {
   "cell_type": "code",
   "execution_count": 7,
   "metadata": {},
   "outputs": [
    {
     "name": "stdout",
     "output_type": "stream",
     "text": [
      "['Hello World\\n', 'Hello World\\n', 'Hello World\\n', 'Bye World\\n', 'Hi World\\n']\n"
     ]
    }
   ],
   "source": [
    "f=open(\"Sample.txt\",'a+')\n",
    "f.write(\"Hi World\\n\")\n",
    "f.seek(0)\n",
    "print(f.readlines())\n",
    "f.close()"
   ]
  }
 ],
 "metadata": {
  "kernelspec": {
   "display_name": "Python 3",
   "language": "python",
   "name": "python3"
  },
  "language_info": {
   "codemirror_mode": {
    "name": "ipython",
    "version": 3
   },
   "file_extension": ".py",
   "mimetype": "text/x-python",
   "name": "python",
   "nbconvert_exporter": "python",
   "pygments_lexer": "ipython3",
   "version": "3.7.1"
  }
 },
 "nbformat": 4,
 "nbformat_minor": 2
}
