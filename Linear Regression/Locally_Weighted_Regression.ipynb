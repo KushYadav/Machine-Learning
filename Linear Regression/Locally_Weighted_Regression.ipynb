{
 "cells": [
  {
   "cell_type": "markdown",
   "metadata": {},
   "source": [
    "## Locally Weighted Regression,\n",
    "* 1) Read and Normalise the Dataset.\n",
    "* 2) Generate W for every query point!\n",
    "* 3) No training is involved, directly make predictions using closed form solution we dervied!,`(X′WX)inv * X′WY` where X' is X_Transpose.\n",
    "* 4) Find the best value of Tau(Bandwidth Parameter) [Cross Validation]"
   ]
  },
  {
   "cell_type": "code",
   "execution_count": 91,
   "metadata": {},
   "outputs": [],
   "source": [
    "import numpy as np\n",
    "import pandas as pd\n",
    "import matplotlib.pyplot as plt"
   ]
  },
  {
   "cell_type": "markdown",
   "metadata": {},
   "source": [
    "## 1. Load Data"
   ]
  },
  {
   "cell_type": "code",
   "execution_count": 92,
   "metadata": {},
   "outputs": [],
   "source": [
    "dfx=pd.read_csv(\"../Datasets/weightedX.csv\")\n",
    "dfy=pd.read_csv(\"../Datasets/weightedY.csv\")"
   ]
  },
  {
   "cell_type": "code",
   "execution_count": 93,
   "metadata": {},
   "outputs": [
    {
     "name": "stdout",
     "output_type": "stream",
     "text": [
      "(99, 1)\n",
      "(99, 1)\n"
     ]
    }
   ],
   "source": [
    "X=dfx.values\n",
    "y=dfy.values\n",
    "print(X.shape)\n",
    "print(y.shape)"
   ]
  },
  {
   "cell_type": "code",
   "execution_count": 94,
   "metadata": {},
   "outputs": [],
   "source": [
    "X=(X-X.mean())/X.std()"
   ]
  },
  {
   "cell_type": "code",
   "execution_count": 95,
   "metadata": {},
   "outputs": [
    {
     "data": {
      "image/png": "[encoded data removed]",
      "text/plain": [
       "<Figure size 432x288 with 1 Axes>"
      ]
     },
     "metadata": {
      "needs_background": "light"
     },
     "output_type": "display_data"
    }
   ],
   "source": [
    "plt.scatter(X,y)\n",
    "plt.title(\"Normalized Data\")\n",
    "plt.show()"
   ]
  },
  {
   "cell_type": "markdown",
   "metadata": {},
   "source": [
    "* If a&b are numpy matrices then a*b will return matrix multiplication whereas if a&b are the numpy arrays, it will return the element wise multiplication."
   ]
  },
  {
   "cell_type": "markdown",
   "metadata": {},
   "source": [
    "## 2. Weight Matrix"
   ]
  },
  {
   "cell_type": "code",
   "execution_count": 96,
   "metadata": {},
   "outputs": [],
   "source": [
    "def Weight(query_point,X,tau):\n",
    "    m=X.shape[0]\n",
    "    W=np.mat(np.eye(m))\n",
    "    \n",
    "    for i in range(m):\n",
    "        W[i,i]=np.exp(np.dot((X[i]-query_point),(X[i]-query_point).T)/(-2*tau*tau))\n",
    "    \n",
    "    return W"
   ]
  },
  {
   "cell_type": "code",
   "execution_count": 97,
   "metadata": {},
   "outputs": [
    {
     "name": "stdout",
     "output_type": "stream",
     "text": [
      "(99, 99)\n",
      "[[0.99793522 0.         0.         ... 0.         0.         0.        ]\n",
      " [0.         0.99983397 0.         ... 0.         0.         0.        ]\n",
      " [0.         0.         0.99791881 ... 0.         0.         0.        ]\n",
      " ...\n",
      " [0.         0.         0.         ... 0.99489427 0.         0.        ]\n",
      " [0.         0.         0.         ... 0.         0.98720262 0.        ]\n",
      " [0.         0.         0.         ... 0.         0.         0.97564665]]\n"
     ]
    }
   ],
   "source": [
    "X=np.mat(X)\n",
    "y=np.mat(y)\n",
    "m=X.shape[0]\n",
    "W=Weight(-1,X,10)\n",
    "print(W.shape)\n",
    "print(W)"
   ]
  },
  {
   "cell_type": "markdown",
   "metadata": {},
   "source": [
    "## 3. Make Prediction"
   ]
  },
  {
   "cell_type": "code",
   "execution_count": 98,
   "metadata": {},
   "outputs": [],
   "source": [
    "def prediction(X,y,query_x,tau):\n",
    "    ones=np.ones((X.shape[0],1))\n",
    "    X_=np.hstack((X,ones))\n",
    "    qx=np.mat([query_x,1])\n",
    "    W=Weight(qx,X_,tau)\n",
    "    \n",
    "    theta=np.linalg.pinv(X_.T*(W*X_))*(X_.T*(W*y))\n",
    "    pred=np.dot(qx,theta)\n",
    "    return theta,pred"
   ]
  },
  {
   "cell_type": "code",
   "execution_count": 99,
   "metadata": {},
   "outputs": [],
   "source": [
    "theta,pred=prediction(X,y,1.0,1.0)"
   ]
  },
  {
   "cell_type": "code",
   "execution_count": 100,
   "metadata": {},
   "outputs": [
    {
     "name": "stdout",
     "output_type": "stream",
     "text": [
      "[[0.14069504]\n",
      " [1.45348191]]\n"
     ]
    }
   ],
   "source": [
    "print(theta)"
   ]
  },
  {
   "cell_type": "code",
   "execution_count": 101,
   "metadata": {},
   "outputs": [
    {
     "name": "stdout",
     "output_type": "stream",
     "text": [
      "[[1.59417694]]\n"
     ]
    }
   ],
   "source": [
    "print(pred)"
   ]
  },
  {
   "cell_type": "markdown",
   "metadata": {},
   "source": [
    "## 4. Visualize Predictions"
   ]
  },
  {
   "cell_type": "code",
   "execution_count": 131,
   "metadata": {},
   "outputs": [],
   "source": [
    "def plot_pred(tau):\n",
    "    X_test=np.linspace(-2,2,20)\n",
    "    y_test=[]\n",
    "    \n",
    "    for i in X_test:\n",
    "        theta,pred=prediction(X,y,i,tau)\n",
    "        y_test.append(pred[0][0])\n",
    "        \n",
    "    y_test=np.array(y_test)\n",
    "    \n",
    "    Xo=np.array(X)\n",
    "    yo=np.array(y)\n",
    "    \n",
    "    plt.title(\"Bandwidth Parameter = %.1f\"%(tau))\n",
    "    plt.scatter(Xo,yo)\n",
    "    plt.scatter(X_test,y_test,color='Red')\n",
    "    plt.show()"
   ]
  },
  {
   "cell_type": "code",
   "execution_count": null,
   "metadata": {},
   "outputs": [
    {
     "data": {
      "image/png": "[encoded data removed]",
      "text/plain": [
       "<Figure size 432x288 with 1 Axes>"
      ]
     },
     "metadata": {
      "needs_background": "light"
     },
     "output_type": "display_data"
    },
    {
     "data": {
      "image/png": "[encoded data removed]",
      "text/plain": [
       "<Figure size 432x288 with 1 Axes>"
      ]
     },
     "metadata": {
      "needs_background": "light"
     },
     "output_type": "display_data"
    },
    {
     "data": {
      "image/png": "[encoded data removed]",
      "text/plain": [
       "<Figure size 432x288 with 1 Axes>"
      ]
     },
     "metadata": {
      "needs_background": "light"
     },
     "output_type": "display_data"
    }
   ],
   "source": [
    "taus=[.1,.5,1,5,10]\n",
    "for i in taus:\n",
    "    plot_pred(i)"
   ]
  },
  {
   "cell_type": "code",
   "execution_count": null,
   "metadata": {},
   "outputs": [],
   "source": []
  },
  {
   "cell_type": "code",
   "execution_count": null,
   "metadata": {},
   "outputs": [],
   "source": []
  }
 ],
 "metadata": {
  "kernelspec": {
   "display_name": "Python 3",
   "language": "python",
   "name": "python3"
  },
  "language_info": {
   "codemirror_mode": {
    "name": "ipython",
    "version": 3
   },
   "file_extension": ".py",
   "mimetype": "text/x-python",
   "name": "python",
   "nbconvert_exporter": "python",
   "pygments_lexer": "ipython3",
   "version": "3.7.1"
  }
 },
 "nbformat": 4,
 "nbformat_minor": 2
}
