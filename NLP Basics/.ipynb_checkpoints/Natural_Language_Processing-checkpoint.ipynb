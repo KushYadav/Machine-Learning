{
 "cells": [
  {
   "cell_type": "code",
   "execution_count": 1,
   "metadata": {},
   "outputs": [],
   "source": [
    "import numpy as np\n",
    "from nltk.corpus import brown\n",
    "from nltk.tokenize import sent_tokenize,word_tokenize,RegexpTokenizer\n",
    "from nltk.corpus import stopwords\n",
    "from nltk.stem.snowball import PorterStemmer\n",
    "from nltk.stem.lancaster import LancasterStemmer\n",
    "from nltk.stem.snowball import SnowballStemmer\n",
    "from nltk.stem import WordNetLemmatizer\n",
    "from sklearn.feature_extraction.text import CountVectorizer\n",
    "from sklearn.feature_extraction.text import TfidfVectorizer"
   ]
  },
  {
   "cell_type": "markdown",
   "metadata": {},
   "source": [
    "### 1. Data Collection"
   ]
  },
  {
   "cell_type": "code",
   "execution_count": 2,
   "metadata": {},
   "outputs": [
    {
     "data": {
      "text/plain": [
       "['adventure',\n",
       " 'belles_lettres',\n",
       " 'editorial',\n",
       " 'fiction',\n",
       " 'government',\n",
       " 'hobbies',\n",
       " 'humor',\n",
       " 'learned',\n",
       " 'lore',\n",
       " 'mystery',\n",
       " 'news',\n",
       " 'religion',\n",
       " 'reviews',\n",
       " 'romance',\n",
       " 'science_fiction']"
      ]
     },
     "execution_count": 2,
     "metadata": {},
     "output_type": "execute_result"
    }
   ],
   "source": [
    "brown.categories()"
   ]
  },
  {
   "cell_type": "code",
   "execution_count": 3,
   "metadata": {},
   "outputs": [
    {
     "name": "stdout",
     "output_type": "stream",
     "text": [
      "2997\n",
      "['Assembly', 'session', 'brought', 'much', 'good']\n",
      "['The', 'General', 'Assembly', ',', 'which', 'adjourns', 'today', ',', 'has', 'performed', 'in', 'an', 'atmosphere', 'of', 'crisis', 'and', 'struggle', 'from', 'the', 'day', 'it', 'convened', '.']\n"
     ]
    }
   ],
   "source": [
    "data=brown.sents(categories='editorial')\n",
    "print(len(data))\n",
    "print(data[0])\n",
    "print(data[1])"
   ]
  },
  {
   "cell_type": "markdown",
   "metadata": {},
   "source": [
    "## Basic NLP Pipeline\n",
    "* Data collection\n",
    "* Tokenization, stopword, stemming, lemmatization\n",
    "* Building a common vocab\n",
    "* Vectorizing the documents\n",
    "* Perform Classification/Clustering"
   ]
  },
  {
   "cell_type": "markdown",
   "metadata": {},
   "source": [
    "### 2. Tokenization"
   ]
  },
  {
   "cell_type": "code",
   "execution_count": 4,
   "metadata": {},
   "outputs": [
    {
     "name": "stdout",
     "output_type": "stream",
     "text": [
      "Send all the 50 documents related to clauses 1,2,3 at abc@xyz.com. Send all the 80 documents related to clauses 4,5,6 at def@uvx.com\n"
     ]
    }
   ],
   "source": [
    "text=\"Send all the 50 documents related to clauses 1,2,3 at abc@xyz.com. Send all the 80 documents related to clauses 4,5,6 at def@uvx.com\"\n",
    "print(text)"
   ]
  },
  {
   "cell_type": "code",
   "execution_count": 5,
   "metadata": {},
   "outputs": [
    {
     "name": "stdout",
     "output_type": "stream",
     "text": [
      "send all the 50 documents related to clauses 1,2,3 at abc@xyz.com.\n",
      "send all the 80 documents related to clauses 4,5,6 at def@uvx.com\n"
     ]
    }
   ],
   "source": [
    "text=text.lower()\n",
    "sents=sent_tokenize(text)\n",
    "print(sents[0])\n",
    "print(sents[1])"
   ]
  },
  {
   "cell_type": "code",
   "execution_count": 6,
   "metadata": {},
   "outputs": [
    {
     "name": "stdout",
     "output_type": "stream",
     "text": [
      "['send', 'all', 'the', '50', 'documents', 'related', 'to', 'clauses', '1,2,3', 'at', 'abc', '@', 'xyz.com', '.']\n"
     ]
    }
   ],
   "source": [
    "word_list=word_tokenize(sents[0])\n",
    "print(word_list)"
   ]
  },
  {
   "cell_type": "markdown",
   "metadata": {},
   "source": [
    "### 3. Stopward Removal"
   ]
  },
  {
   "cell_type": "code",
   "execution_count": 7,
   "metadata": {},
   "outputs": [
    {
     "name": "stdout",
     "output_type": "stream",
     "text": [
      "179\n",
      "{'into', 'a', 'do', \"shouldn't\", 'shan', 'from', 'just', 'how', 'hers', 'ours', 'needn', \"you've\", 'is', 'in', \"don't\", 'because', 'll', 'yours', \"haven't\", 'wasn', \"wouldn't\", 'its', 'y', 'than', 'were', \"hadn't\", 're', \"couldn't\", \"isn't\", 'down', 'hasn', 'this', 'be', 'up', 'when', 'where', 'but', 'here', 'then', 'our', 'their', 'both', 'has', 'nor', 'does', 'too', 'out', 'more', 'further', 'ma', 'most', 'theirs', \"that'll\", 'why', 'shouldn', 'any', 'you', 'as', 'between', 'of', 'what', 'until', \"doesn't\", 'few', 'i', 'd', 'yourself', \"didn't\", 'once', 'to', 'me', 'are', 'after', 'under', 'can', 'who', 'these', 'm', 'having', 'herself', 'been', 've', \"won't\", 'myself', \"it's\", 'which', 'there', \"you'll\", 'mightn', 'mustn', 'above', 'only', 'during', 'doesn', 'won', 'such', 'did', 'if', 'ourselves', 'each', 'by', 'not', 'itself', 'doing', 'o', 'she', \"you'd\", 'ain', 'had', 'against', 's', 'him', 'he', 'them', 'couldn', \"you're\", 'or', 'at', 'other', 'very', 'about', 'didn', 'hadn', 'so', 'will', 'being', 'it', 'yourselves', 'haven', \"weren't\", 'an', 'no', 'while', 'was', 'we', 'that', 'before', 'am', \"aren't\", \"mightn't\", 'off', 'over', 'all', 'on', 'his', 'same', 'the', \"hasn't\", 'isn', 'your', \"mustn't\", 'some', \"shan't\", 'wouldn', 'should', 'aren', 'now', 'for', 'her', 'whom', 'and', 'weren', 'own', 'they', 't', 'don', \"wasn't\", 'himself', \"needn't\", 'those', \"should've\", 'themselves', 'my', 'through', \"she's\", 'below', 'again', 'have', 'with'}\n"
     ]
    }
   ],
   "source": [
    "sw=set(stopwords.words('english'))\n",
    "print(len(sw))\n",
    "print(sw)"
   ]
  },
  {
   "cell_type": "code",
   "execution_count": 8,
   "metadata": {},
   "outputs": [],
   "source": [
    "def filter_words(word_list):\n",
    "    return [w for w in word_list if w not in sw]"
   ]
  },
  {
   "cell_type": "code",
   "execution_count": 9,
   "metadata": {},
   "outputs": [
    {
     "name": "stdout",
     "output_type": "stream",
     "text": [
      "['send', '50', 'documents', 'related', 'clauses', '1,2,3', 'abc', '@', 'xyz.com', '.']\n"
     ]
    }
   ],
   "source": [
    "fw=filter_words(word_list)\n",
    "print(fw)"
   ]
  },
  {
   "cell_type": "markdown",
   "metadata": {},
   "source": [
    "### Tokenization using Regular Expression\n",
    "* Word Tokenizer cannot handle complex tokenization so we use Regex Tokenizer in class NLTK"
   ]
  },
  {
   "cell_type": "code",
   "execution_count": 10,
   "metadata": {},
   "outputs": [
    {
     "name": "stdout",
     "output_type": "stream",
     "text": [
      "['send', 'documents', 'related', 'clauses', 'abc@xyz', 'com']\n"
     ]
    }
   ],
   "source": [
    "tokenizer=RegexpTokenizer(\"[a-zA-Z@]+\")\n",
    "word_list=tokenizer.tokenize(sents[0])\n",
    "fw=filter_words(word_list)\n",
    "print(fw)"
   ]
  },
  {
   "cell_type": "markdown",
   "metadata": {},
   "source": [
    "### 4. Stemming\n",
    "* Process that transforms particular words(verbs,plurals) into their radical form.\n",
    "* Preserve the semantics of the sentence without increasing the number of unique tokens.\n",
    "* jumps, jumped, jumping, jump => jump\n",
    "\n",
    "\n",
    "* **Snowball** **Stammer**\n",
    "* **Porter** **Stammer**\n",
    "* **Lancaster** **Stammer**\n"
   ]
  },
  {
   "cell_type": "code",
   "execution_count": 11,
   "metadata": {},
   "outputs": [],
   "source": [
    "ps=PorterStemmer()"
   ]
  },
  {
   "cell_type": "code",
   "execution_count": 12,
   "metadata": {},
   "outputs": [
    {
     "name": "stdout",
     "output_type": "stream",
     "text": [
      "jump\n",
      "jump\n",
      "jump\n",
      "awesom\n",
      "teeth\n"
     ]
    }
   ],
   "source": [
    "print(ps.stem(\"Jumps\"))\n",
    "print(ps.stem(\"Jumped\"))\n",
    "print(ps.stem(\"Jumping\"))\n",
    "print(ps.stem(\"Awesome\"))\n",
    "print(ps.stem(\"Teeth\"))"
   ]
  },
  {
   "cell_type": "code",
   "execution_count": 13,
   "metadata": {},
   "outputs": [
    {
     "name": "stdout",
     "output_type": "stream",
     "text": [
      "tee\n",
      "awesom\n"
     ]
    }
   ],
   "source": [
    "ls=LancasterStemmer()\n",
    "print(ls.stem(\"teeth\"))\n",
    "print(ls.stem(\"Awesome\"))"
   ]
  },
  {
   "cell_type": "code",
   "execution_count": 14,
   "metadata": {},
   "outputs": [
    {
     "name": "stdout",
     "output_type": "stream",
     "text": [
      "teenag\n",
      "awesom\n"
     ]
    }
   ],
   "source": [
    "ss=SnowballStemmer('english')\n",
    "print(ss.stem(\"Teenager\"))\n",
    "print(ss.stem(\"Awesome\"))"
   ]
  },
  {
   "cell_type": "markdown",
   "metadata": {},
   "source": [
    "### 5. Building Common Vocabulary and Vectorizing Documents (Based upon bag of words model)"
   ]
  },
  {
   "cell_type": "code",
   "execution_count": 15,
   "metadata": {},
   "outputs": [],
   "source": [
    "corpus = [\n",
    "        'Indian cricket team will wins World Cup, says Capt. Virat Kohli. World cup will be held at Sri Lanka.',\n",
    "        'We will win next Lok Sabha Elections, says confident Indian PM',\n",
    "        'The nobel laurate won the hearts of the people',\n",
    "        'The movie Raazi is an exciting Indian Spy thriller based upon a real story'\n",
    "]"
   ]
  },
  {
   "cell_type": "code",
   "execution_count": 16,
   "metadata": {},
   "outputs": [],
   "source": [
    "cv=CountVectorizer()"
   ]
  },
  {
   "cell_type": "code",
   "execution_count": 17,
   "metadata": {},
   "outputs": [
    {
     "name": "stdout",
     "output_type": "stream",
     "text": [
      "4\n",
      "[[0 1 0 1 1 0 1 2 0 0 0 1 1 0 1 1 0 0 0 0 0 0 0 0 0 0 0 1 0 1 0 1 0 0 0 1\n",
      "  0 2 0 1 0 2]\n",
      " [0 0 0 0 0 1 0 0 1 0 0 0 1 0 0 0 0 1 0 1 0 0 0 1 0 0 1 1 0 0 0 0 0 0 0 0\n",
      "  1 1 1 0 0 0]\n",
      " [0 0 0 0 0 0 0 0 0 0 1 0 0 0 0 0 1 0 0 0 1 1 1 0 0 0 0 0 0 0 0 0 3 0 0 0\n",
      "  0 0 0 0 1 0]\n",
      " [1 0 1 0 0 0 0 0 0 1 0 0 1 1 0 0 0 0 1 0 0 0 0 0 1 1 0 0 1 0 1 0 1 1 1 0\n",
      "  0 0 0 0 0 0]]\n"
     ]
    }
   ],
   "source": [
    "vectorized_corpus=cv.fit_transform(corpus).toarray()\n",
    "print(len(vectorized_corpus))\n",
    "print(vectorized_corpus)"
   ]
  },
  {
   "cell_type": "code",
   "execution_count": 18,
   "metadata": {},
   "outputs": [
    {
     "name": "stdout",
     "output_type": "stream",
     "text": [
      "{'indian': 12, 'cricket': 6, 'team': 31, 'will': 37, 'wins': 39, 'world': 41, 'cup': 7, 'says': 27, 'capt': 4, 'virat': 35, 'kohli': 14, 'be': 3, 'held': 11, 'at': 1, 'sri': 29, 'lanka': 15, 'we': 36, 'win': 38, 'next': 19, 'lok': 17, 'sabha': 26, 'elections': 8, 'confident': 5, 'pm': 23, 'the': 32, 'nobel': 20, 'laurate': 16, 'won': 40, 'hearts': 10, 'of': 21, 'people': 22, 'movie': 18, 'raazi': 24, 'is': 13, 'an': 0, 'exciting': 9, 'spy': 28, 'thriller': 33, 'based': 2, 'upon': 34, 'real': 25, 'story': 30}\n"
     ]
    }
   ],
   "source": [
    "print(cv.vocabulary_)"
   ]
  },
  {
   "cell_type": "code",
   "execution_count": 19,
   "metadata": {},
   "outputs": [
    {
     "name": "stdout",
     "output_type": "stream",
     "text": [
      "[1. 1. 1. 0. 0. 0. 0. 1. 1. 1. 1. 1. 1. 1. 1. 1. 1. 1. 1. 1. 1. 1. 1. 1.\n",
      " 1. 1. 1. 1. 1. 1. 1. 1. 1. 1. 1. 1. 1.]\n",
      "37\n",
      "[array(['an', 'at', 'based', 'cup', 'elections', 'exciting', 'hearts',\n",
      "       'held', 'indian', 'is', 'kohli', 'lanka', 'laurate', 'lok',\n",
      "       'movie', 'next', 'nobel', 'of', 'people', 'pm', 'raazi', 'real',\n",
      "       'sabha', 'says', 'spy', 'sri', 'story', 'team', 'the', 'thriller',\n",
      "       'upon', 'virat', 'we'], dtype='<U9')]\n"
     ]
    }
   ],
   "source": [
    "vector = np.ones((37,))\n",
    "vector[3:7] = 0\n",
    "print(vector)\n",
    "print(len(vector))\n",
    "print(cv.inverse_transform(vector))"
   ]
  },
  {
   "cell_type": "markdown",
   "metadata": {},
   "source": [
    "### Custom Tokenizer"
   ]
  },
  {
   "cell_type": "code",
   "execution_count": 20,
   "metadata": {},
   "outputs": [],
   "source": [
    "def myTokenizer(sentence):\n",
    "    words=tokenizer.tokenize(sentence)\n",
    "    return filter_words(words)"
   ]
  },
  {
   "cell_type": "code",
   "execution_count": 21,
   "metadata": {},
   "outputs": [
    {
     "data": {
      "text/plain": [
       "['Indian',\n",
       " 'cricket',\n",
       " 'team',\n",
       " 'wins',\n",
       " 'World',\n",
       " 'Cup',\n",
       " 'says',\n",
       " 'Capt',\n",
       " 'Virat',\n",
       " 'Kohli',\n",
       " 'World',\n",
       " 'cup',\n",
       " 'held',\n",
       " 'Sri',\n",
       " 'Lanka']"
      ]
     },
     "execution_count": 21,
     "metadata": {},
     "output_type": "execute_result"
    }
   ],
   "source": [
    "myTokenizer(corpus[0])"
   ]
  },
  {
   "cell_type": "code",
   "execution_count": 22,
   "metadata": {},
   "outputs": [
    {
     "name": "stdout",
     "output_type": "stream",
     "text": [
      "[[0 1 0 1 2 0 0 0 1 1 1 1 0 0 0 0 0 0 0 0 0 0 1 0 1 0 1 0 0 1 0 1 2]\n",
      " [0 0 1 0 0 1 0 0 0 1 0 0 0 1 0 1 0 0 1 0 0 1 1 0 0 0 0 0 0 0 1 0 0]\n",
      " [0 0 0 0 0 0 0 1 0 0 0 0 1 0 0 0 1 1 0 0 0 0 0 0 0 0 0 0 0 0 0 0 0]\n",
      " [1 0 0 0 0 0 1 0 0 1 0 0 0 0 1 0 0 0 0 1 1 0 0 1 0 1 0 1 1 0 0 0 0]]\n",
      "33\n"
     ]
    }
   ],
   "source": [
    "cv=CountVectorizer(tokenizer=myTokenizer)\n",
    "vectorized_corpus=cv.fit_transform(corpus)\n",
    "vc=vectorized_corpus.toarray()\n",
    "print(vc)\n",
    "print(len(vc[0]))"
   ]
  },
  {
   "cell_type": "code",
   "execution_count": 23,
   "metadata": {},
   "outputs": [
    {
     "name": "stdout",
     "output_type": "stream",
     "text": [
      "{'indian': 9, 'cricket': 3, 'team': 26, 'wins': 31, 'world': 32, 'cup': 4, 'says': 22, 'capt': 1, 'virat': 29, 'kohli': 10, 'held': 8, 'sri': 24, 'lanka': 11, 'win': 30, 'next': 15, 'lok': 13, 'sabha': 21, 'elections': 5, 'confident': 2, 'pm': 18, 'nobel': 16, 'laurate': 12, 'hearts': 7, 'people': 17, 'movie': 14, 'raazi': 19, 'exciting': 6, 'spy': 23, 'thriller': 27, 'based': 0, 'upon': 28, 'real': 20, 'story': 25}\n"
     ]
    }
   ],
   "source": [
    "print(cv.vocabulary_)"
   ]
  },
  {
   "cell_type": "code",
   "execution_count": 24,
   "metadata": {},
   "outputs": [
    {
     "name": "stdout",
     "output_type": "stream",
     "text": [
      "[array(['capt', 'cricket', 'cup', 'held', 'indian', 'kohli', 'lanka',\n",
      "       'says', 'sri', 'team', 'virat', 'wins', 'world'], dtype='<U9')]\n"
     ]
    }
   ],
   "source": [
    "v=vc[0]\n",
    "print(cv.inverse_transform(v))"
   ]
  },
  {
   "cell_type": "markdown",
   "metadata": {},
   "source": [
    "### Features in Bag of words model\n",
    "* Uni-grams\n",
    "* Bi-grams, Tri-grams\n",
    "* N-Grams"
   ]
  },
  {
   "cell_type": "code",
   "execution_count": 25,
   "metadata": {},
   "outputs": [
    {
     "name": "stdout",
     "output_type": "stream",
     "text": [
      "96\n",
      "[[0 0 0 1 1 1 0 0 0 1 1 1 2 1 1 1 1 0 0 0 0 0 0 0 0 1 1 1 1 1 1 0 0 0 1 1\n",
      "  1 1 0 0 0 0 0 0 0 0 0 0 0 0 0 0 0 0 0 0 0 0 0 0 0 0 0 1 1 1 0 0 0 0 0 1\n",
      "  1 0 1 1 1 0 0 0 0 0 0 1 1 1 0 0 0 1 1 1 2 2 1 1]\n",
      " [0 0 0 0 0 0 1 1 1 0 0 0 0 0 0 0 0 1 1 1 0 0 0 0 0 0 0 0 1 0 0 1 0 0 0 0\n",
      "  0 0 0 0 0 1 1 1 0 0 0 1 1 1 0 0 0 0 1 0 0 0 0 0 1 1 1 1 0 0 1 1 0 0 0 0\n",
      "  0 0 0 0 0 0 0 0 0 0 0 0 0 0 1 1 1 0 0 0 0 0 0 0]\n",
      " [0 0 0 0 0 0 0 0 0 0 0 0 0 0 0 0 0 0 0 0 0 0 0 1 1 0 0 0 0 0 0 0 0 0 0 0\n",
      "  0 0 1 1 1 0 0 0 0 0 0 0 0 0 1 1 1 1 0 0 0 0 0 0 0 0 0 0 0 0 0 0 0 0 0 0\n",
      "  0 0 0 0 0 0 0 0 0 0 0 0 0 0 0 0 0 0 0 0 0 0 0 0]\n",
      " [1 1 1 0 0 0 0 0 0 0 0 0 0 0 0 0 0 0 0 0 1 1 1 0 0 0 0 0 1 0 0 0 1 1 0 0\n",
      "  0 0 0 0 0 0 0 0 1 1 1 0 0 0 0 0 0 0 0 1 1 1 1 1 0 0 0 0 0 0 0 0 1 1 1 0\n",
      "  0 1 0 0 0 1 1 1 1 1 1 0 0 0 0 0 0 0 0 0 0 0 0 0]]\n"
     ]
    }
   ],
   "source": [
    "cv=CountVectorizer(tokenizer=myTokenizer,ngram_range=(1,3))\n",
    "vectorized_corpus=cv.fit_transform(corpus)\n",
    "vc=vectorized_corpus.toarray()\n",
    "print(len(vc[0]))\n",
    "print(vc)"
   ]
  },
  {
   "cell_type": "code",
   "execution_count": 26,
   "metadata": {},
   "outputs": [
    {
     "name": "stdout",
     "output_type": "stream",
     "text": [
      "{'indian': 28, 'cricket': 9, 'team': 74, 'wins': 89, 'world': 92, 'cup': 12, 'says': 63, 'capt': 3, 'virat': 83, 'kohli': 34, 'held': 25, 'sri': 71, 'lanka': 37, 'indian cricket': 29, 'cricket team': 10, 'team wins': 75, 'wins world': 90, 'world cup': 93, 'cup says': 15, 'says capt': 64, 'capt virat': 4, 'virat kohli': 84, 'kohli world': 35, 'cup held': 13, 'held sri': 26, 'sri lanka': 72, 'indian cricket team': 30, 'cricket team wins': 11, 'team wins world': 76, 'wins world cup': 91, 'world cup says': 95, 'cup says capt': 16, 'says capt virat': 65, 'capt virat kohli': 5, 'virat kohli world': 85, 'kohli world cup': 36, 'world cup held': 94, 'cup held sri': 14, 'held sri lanka': 27, 'win': 86, 'next': 47, 'lok': 41, 'sabha': 60, 'elections': 17, 'confident': 6, 'pm': 54, 'win next': 87, 'next lok': 48, 'lok sabha': 42, 'sabha elections': 61, 'elections says': 18, 'says confident': 66, 'confident indian': 7, 'indian pm': 31, 'win next lok': 88, 'next lok sabha': 49, 'lok sabha elections': 43, 'sabha elections says': 62, 'elections says confident': 19, 'says confident indian': 67, 'confident indian pm': 8, 'nobel': 50, 'laurate': 38, 'hearts': 23, 'people': 53, 'nobel laurate': 51, 'laurate hearts': 39, 'hearts people': 24, 'nobel laurate hearts': 52, 'laurate hearts people': 40, 'movie': 44, 'raazi': 55, 'exciting': 20, 'spy': 68, 'thriller': 77, 'based': 0, 'upon': 80, 'real': 58, 'story': 73, 'movie raazi': 45, 'raazi exciting': 56, 'exciting indian': 21, 'indian spy': 32, 'spy thriller': 69, 'thriller based': 78, 'based upon': 1, 'upon real': 81, 'real story': 59, 'movie raazi exciting': 46, 'raazi exciting indian': 57, 'exciting indian spy': 22, 'indian spy thriller': 33, 'spy thriller based': 70, 'thriller based upon': 79, 'based upon real': 2, 'upon real story': 82}\n"
     ]
    }
   ],
   "source": [
    "print(cv.vocabulary_)"
   ]
  },
  {
   "cell_type": "code",
   "execution_count": 27,
   "metadata": {},
   "outputs": [
    {
     "name": "stdout",
     "output_type": "stream",
     "text": [
      "[array(['capt', 'capt virat', 'capt virat kohli', 'cricket',\n",
      "       'cricket team', 'cricket team wins', 'cup', 'cup held',\n",
      "       'cup held sri', 'cup says', 'cup says capt', 'held', 'held sri',\n",
      "       'held sri lanka', 'indian', 'indian cricket',\n",
      "       'indian cricket team', 'kohli', 'kohli world', 'kohli world cup',\n",
      "       'lanka', 'says', 'says capt', 'says capt virat', 'sri',\n",
      "       'sri lanka', 'team', 'team wins', 'team wins world', 'virat',\n",
      "       'virat kohli', 'virat kohli world', 'wins', 'wins world',\n",
      "       'wins world cup', 'world', 'world cup', 'world cup held',\n",
      "       'world cup says'], dtype='<U24')]\n"
     ]
    }
   ],
   "source": [
    "v=vc[0]\n",
    "print(cv.inverse_transform(v))"
   ]
  },
  {
   "cell_type": "markdown",
   "metadata": {},
   "source": [
    "### Tf-idf Normalisation\n",
    "\n",
    "* Avoid features that occur very often, becauase they contain less information\n",
    "* Information decreases as the number of occurences increases across different type of documents\n",
    "* So we define another term - term-document-frequency which associates a weight with every term\n",
    "\n"
   ]
  },
  {
   "cell_type": "code",
   "execution_count": 28,
   "metadata": {},
   "outputs": [
    {
     "name": "stdout",
     "output_type": "stream",
     "text": [
      "[[0.         0.2355126  0.         0.2355126  0.4710252  0.\n",
      "  0.         0.         0.2355126  0.15032464 0.2355126  0.2355126\n",
      "  0.         0.         0.         0.         0.         0.\n",
      "  0.         0.         0.         0.         0.18568084 0.\n",
      "  0.2355126  0.         0.2355126  0.         0.         0.2355126\n",
      "  0.         0.2355126  0.4710252 ]\n",
      " [0.         0.         0.35291425 0.         0.         0.35291425\n",
      "  0.         0.         0.         0.22526059 0.         0.\n",
      "  0.         0.35291425 0.         0.35291425 0.         0.\n",
      "  0.35291425 0.         0.         0.35291425 0.27824164 0.\n",
      "  0.         0.         0.         0.         0.         0.\n",
      "  0.35291425 0.         0.        ]\n",
      " [0.         0.         0.         0.         0.         0.\n",
      "  0.         0.5        0.         0.         0.         0.\n",
      "  0.5        0.         0.         0.         0.5        0.5\n",
      "  0.         0.         0.         0.         0.         0.\n",
      "  0.         0.         0.         0.         0.         0.\n",
      "  0.         0.         0.        ]\n",
      " [0.32603555 0.         0.         0.         0.         0.\n",
      "  0.32603555 0.         0.         0.20810427 0.         0.\n",
      "  0.         0.         0.32603555 0.         0.         0.\n",
      "  0.         0.32603555 0.32603555 0.         0.         0.32603555\n",
      "  0.         0.32603555 0.         0.32603555 0.32603555 0.\n",
      "  0.         0.         0.        ]]\n"
     ]
    }
   ],
   "source": [
    "tfidf_vectorizer = TfidfVectorizer(tokenizer=myTokenizer,ngram_range=(1,1),norm='l2')\n",
    "vectorized_corpus = tfidf_vectorizer.fit_transform(corpus).toarray()\n",
    "print(vectorized_corpus)"
   ]
  },
  {
   "cell_type": "code",
   "execution_count": 29,
   "metadata": {},
   "outputs": [
    {
     "name": "stdout",
     "output_type": "stream",
     "text": [
      "{'indian': 9, 'cricket': 3, 'team': 26, 'wins': 31, 'world': 32, 'cup': 4, 'says': 22, 'capt': 1, 'virat': 29, 'kohli': 10, 'held': 8, 'sri': 24, 'lanka': 11, 'win': 30, 'next': 15, 'lok': 13, 'sabha': 21, 'elections': 5, 'confident': 2, 'pm': 18, 'nobel': 16, 'laurate': 12, 'hearts': 7, 'people': 17, 'movie': 14, 'raazi': 19, 'exciting': 6, 'spy': 23, 'thriller': 27, 'based': 0, 'upon': 28, 'real': 20, 'story': 25}\n"
     ]
    }
   ],
   "source": [
    "print(tfidf_vectorizer.vocabulary_)"
   ]
  }
 ],
 "metadata": {
  "kernelspec": {
   "display_name": "Python 3",
   "language": "python",
   "name": "python3"
  },
  "language_info": {
   "codemirror_mode": {
    "name": "ipython",
    "version": 3
   },
   "file_extension": ".py",
   "mimetype": "text/x-python",
   "name": "python",
   "nbconvert_exporter": "python",
   "pygments_lexer": "ipython3",
   "version": "3.7.1"
  }
 },
 "nbformat": 4,
 "nbformat_minor": 2
}
