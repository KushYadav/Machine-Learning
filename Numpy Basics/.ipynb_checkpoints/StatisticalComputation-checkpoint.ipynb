{
 "cells": [
  {
   "cell_type": "markdown",
   "metadata": {},
   "source": [
    "## Statistical Computation using numpy\n",
    "* min, max\n",
    "* mean\n",
    "* median\n",
    "* average\n",
    "* variance\n",
    "* standard deviation"
   ]
  },
  {
   "cell_type": "code",
   "execution_count": 1,
   "metadata": {},
   "outputs": [],
   "source": [
    "import numpy as np"
   ]
  },
  {
   "cell_type": "code",
   "execution_count": 2,
   "metadata": {},
   "outputs": [
    {
     "name": "stdout",
     "output_type": "stream",
     "text": [
      "1\n",
      "[1 2 3 4]\n",
      "[1 5]\n",
      "8\n",
      "[8 7 6 5]\n",
      "[4 8]\n"
     ]
    }
   ],
   "source": [
    "a=np.array([[1,2,3,4],[8,7,6,5]])\n",
    "\n",
    "print(np.min(a))\n",
    "print(np.min(a,axis=0))\n",
    "print(np.min(a,axis=1))\n",
    "\n",
    "print(np.max(a))\n",
    "print(np.max(a,axis=0))\n",
    "print(np.max(a,axis=1))"
   ]
  },
  {
   "cell_type": "code",
   "execution_count": 3,
   "metadata": {},
   "outputs": [
    {
     "name": "stdout",
     "output_type": "stream",
     "text": [
      "4.5\n",
      "[4.5 4.5 4.5 4.5]\n",
      "[2.5 6.5]\n"
     ]
    }
   ],
   "source": [
    "a=np.array([[1,2,3,4],[8,7,6,5]])\n",
    "\n",
    "print(np.mean(a))\n",
    "print(np.mean(a,axis=0))\n",
    "print(np.mean(a,axis=1))"
   ]
  },
  {
   "cell_type": "code",
   "execution_count": 4,
   "metadata": {},
   "outputs": [
    {
     "name": "stdout",
     "output_type": "stream",
     "text": [
      "4.0\n",
      "[4.5 5.  3.5 4. ]\n",
      "[2.  6.5]\n"
     ]
    }
   ],
   "source": [
    "a=np.array([[1,2,2,3],[8,8,5,5]])\n",
    "\n",
    "print(np.median(a))\n",
    "print(np.median(a,axis=0))\n",
    "print(np.median(a,axis=1))"
   ]
  },
  {
   "cell_type": "code",
   "execution_count": 5,
   "metadata": {},
   "outputs": [
    {
     "name": "stdout",
     "output_type": "stream",
     "text": [
      "2.3333333333333335\n"
     ]
    }
   ],
   "source": [
    "a=np.array([1,2,3,4,5])\n",
    "w=np.array([5,4,3,2,1])\n",
    "print(np.average(a,weights=w))"
   ]
  },
  {
   "cell_type": "code",
   "execution_count": 6,
   "metadata": {},
   "outputs": [
    {
     "name": "stdout",
     "output_type": "stream",
     "text": [
      "1.4142135623730951\n",
      "2.0\n"
     ]
    }
   ],
   "source": [
    "print(np.std(a))\n",
    "print(np.var(a))"
   ]
  }
 ],
 "metadata": {
  "kernelspec": {
   "display_name": "Python 3",
   "language": "python",
   "name": "python3"
  },
  "language_info": {
   "codemirror_mode": {
    "name": "ipython",
    "version": 3
   },
   "file_extension": ".py",
   "mimetype": "text/x-python",
   "name": "python",
   "nbconvert_exporter": "python",
   "pygments_lexer": "ipython3",
   "version": "3.7.1"
  }
 },
 "nbformat": 4,
 "nbformat_minor": 2
}
