{
 "cells": [
  {
   "cell_type": "markdown",
   "metadata": {},
   "source": [
    "# Linear Algebra\n",
    "### 1. Scalers & Vectors\n",
    "\n",
    "* **Scalars** is a single number denoted by $x$.\n",
    "* **Vector** is an array of scalers, denoted by $x$.\n",
    "     * Thus, a vector has n scalers $x_1$,$x_2$,$x_3$....$x_n$.\n",
    "     * Note that the indexing here begins with 1, unlike python.(where it begins with zero)\n",
    "\\begin{equation}\n",
    "x = \n",
    "\\begin{bmatrix}\n",
    "x_1 \\\\\n",
    "x_2 \\\\\n",
    "... \\\\\n",
    "x_n \\\\\n",
    "\\end{bmatrix}\n",
    "\\end{equation}"
   ]
  },
  {
   "cell_type": "code",
   "execution_count": 1,
   "metadata": {},
   "outputs": [],
   "source": [
    "import numpy as np"
   ]
  },
  {
   "cell_type": "code",
   "execution_count": 2,
   "metadata": {},
   "outputs": [
    {
     "name": "stdout",
     "output_type": "stream",
     "text": [
      "[4 5 6]\n",
      "(3,)\n",
      "4\n"
     ]
    }
   ],
   "source": [
    "x=np.array([4,5,6])\n",
    "print(x)\n",
    "print(x.shape)\n",
    "print(x[0])"
   ]
  },
  {
   "cell_type": "code",
   "execution_count": 3,
   "metadata": {},
   "outputs": [
    {
     "name": "stdout",
     "output_type": "stream",
     "text": [
      "[[4]\n",
      " [5]\n",
      " [6]]\n",
      "(3, 1)\n",
      "4\n"
     ]
    }
   ],
   "source": [
    "x=np.array([[4],[5],[6]])\n",
    "print(x)\n",
    "print(x.shape)\n",
    "print(x[0][0])"
   ]
  },
  {
   "cell_type": "code",
   "execution_count": 4,
   "metadata": {},
   "outputs": [
    {
     "name": "stdout",
     "output_type": "stream",
     "text": [
      "[4 5 6]\n",
      "(3,)\n"
     ]
    }
   ],
   "source": [
    "x=x.reshape((-1,))\n",
    "print(x)\n",
    "print(x.shape)"
   ]
  },
  {
   "cell_type": "markdown",
   "metadata": {},
   "source": [
    "### 2. Matrices and Tensors\n",
    "* **Matrix** is a 2D array of scalers, denoted by $X$.\n",
    "\\begin{equation}\n",
    "X = \n",
    "\\begin{bmatrix}\n",
    "X_1,_1&X_1,_2&...&X_1,_n\\\\\n",
    "X_2,_1&X_2,_2&...&X_2,_n\\\\\n",
    "...&...&...&...\\\\\n",
    "X_m,_1&X_m,_2&...&X_m,_n\\\\\n",
    "\\end{bmatrix}\n",
    "\\end{equation}\n",
    "    * This matrix has $m$ rows and $n$ columns.\n",
    "    * Each individual element such as $X_1,_1$ is a scalar.\n",
    "    * If $m=n$, the matrix is known as **Square** matrix.\n",
    "\n",
    "* **Tensor** is an array with more than two axes, denoted as $X$"
   ]
  },
  {
   "cell_type": "code",
   "execution_count": 5,
   "metadata": {},
   "outputs": [
    {
     "name": "stdout",
     "output_type": "stream",
     "text": [
      "(3, 3)\n"
     ]
    }
   ],
   "source": [
    "x=np.array([[1,2,3],[4,5,6],[7,8,9]])\n",
    "print(x.shape)"
   ]
  },
  {
   "cell_type": "code",
   "execution_count": 6,
   "metadata": {},
   "outputs": [
    {
     "name": "stdout",
     "output_type": "stream",
     "text": [
      "[[[ 1  2  3]\n",
      "  [ 4  5  6]]\n",
      "\n",
      " [[ 7  8  9]\n",
      "  [10 11 12]]]\n",
      "(2, 2, 3)\n"
     ]
    }
   ],
   "source": [
    "t=np.array([[[1,2,3],[4,5,6]],[[7,8,9],[10,11,12]]])\n",
    "print(t)\n",
    "print(t.shape)"
   ]
  },
  {
   "cell_type": "markdown",
   "metadata": {},
   "source": [
    "### 3. Transpose\n",
    "* For a 2D matrix, transpose can be obtained as follow $(A^T)_{ij})$=$A_{ji}$\n",
    "* For a vector, transpose makes the column vector into row. Thus a column vector can also be represented as $x=[x_1,x_2,x_3]^T$"
   ]
  },
  {
   "cell_type": "code",
   "execution_count": 7,
   "metadata": {},
   "outputs": [
    {
     "name": "stdout",
     "output_type": "stream",
     "text": [
      "[[1 4 7]\n",
      " [2 5 8]\n",
      " [3 6 9]]\n"
     ]
    }
   ],
   "source": [
    "x_t=np.transpose(x)\n",
    "print(x_t)"
   ]
  },
  {
   "cell_type": "code",
   "execution_count": 8,
   "metadata": {},
   "outputs": [
    {
     "name": "stdout",
     "output_type": "stream",
     "text": [
      "(9, 1)\n",
      "[[1 2 3 4 5 6 7 8 9]]\n",
      "(1, 9)\n"
     ]
    }
   ],
   "source": [
    "x=x.reshape((-1,1))\n",
    "print(x.shape)\n",
    "x_t=np.transpose(x)\n",
    "print(x_t)\n",
    "print(x_t.shape)"
   ]
  },
  {
   "cell_type": "markdown",
   "metadata": {},
   "source": [
    "### 4. Broadcasting\n",
    "You can add a scaler to a vector, and numpy will add it to each element in the vector.\n",
    "\n",
    "$(x+a=x_i+a)$\n",
    "\n",
    "Similarly we can add a vector to a matrix, and numpy will add the vector to each column of the matrix.\n"
   ]
  },
  {
   "cell_type": "code",
   "execution_count": 9,
   "metadata": {},
   "outputs": [
    {
     "name": "stdout",
     "output_type": "stream",
     "text": [
      "[6 7 8 9]\n"
     ]
    }
   ],
   "source": [
    "x=np.array([1,2,3,4])\n",
    "x=x+5\n",
    "print(x)"
   ]
  },
  {
   "cell_type": "code",
   "execution_count": 10,
   "metadata": {},
   "outputs": [
    {
     "name": "stdout",
     "output_type": "stream",
     "text": [
      "[[ 1  4  9]\n",
      " [16 25 36]\n",
      " [49 64 81]]\n"
     ]
    }
   ],
   "source": [
    "x=np.array([[1,2,3],[4,5,6],[7,8,9]])\n",
    "x=x**2\n",
    "print(x)"
   ]
  },
  {
   "cell_type": "markdown",
   "metadata": {},
   "source": [
    "### 5. Matrix Multiplication\n",
    "* A useful method to think of Matrix multiplication is as linear combination of columns of $A$ weighted by column entries of $B$"
   ]
  },
  {
   "cell_type": "code",
   "execution_count": 11,
   "metadata": {},
   "outputs": [
    {
     "name": "stdout",
     "output_type": "stream",
     "text": [
      "[[9 9 9]\n",
      " [9 9 9]\n",
      " [9 9 9]]\n"
     ]
    }
   ],
   "source": [
    "x=np.array([[1,1,1],[1,1,1],[1,1,1]])\n",
    "y=np.array([[3,3,3],[3,3,3],[3,3,3]])\n",
    "\n",
    "print(np.dot(x,y))"
   ]
  },
  {
   "cell_type": "markdown",
   "metadata": {},
   "source": [
    "### 6. Element Wise multiplication: Hadamard Product"
   ]
  },
  {
   "cell_type": "code",
   "execution_count": 12,
   "metadata": {},
   "outputs": [
    {
     "name": "stdout",
     "output_type": "stream",
     "text": [
      "[[1. 0. 0.]\n",
      " [0. 5. 0.]\n",
      " [0. 0. 9.]]\n"
     ]
    }
   ],
   "source": [
    "x=np.array([[1,2,3],[4,5,6],[7,8,9]])\n",
    "y=np.eye(3)\n",
    "print(x*y)"
   ]
  },
  {
   "cell_type": "markdown",
   "metadata": {},
   "source": [
    "### 7. Norms\n",
    "* Norm can be thought of as a proxy for size of a vector."
   ]
  },
  {
   "cell_type": "code",
   "execution_count": 13,
   "metadata": {},
   "outputs": [
    {
     "name": "stdout",
     "output_type": "stream",
     "text": [
      "11.575836902790225\n",
      "18.0\n",
      "10.0\n"
     ]
    }
   ],
   "source": [
    "x=np.array([-5,3,10])\n",
    "print(np.linalg.norm(x,ord=2))\n",
    "print(np.linalg.norm(x,ord=1))\n",
    "print(np.linalg.norm(x,ord=np.inf))"
   ]
  }
 ],
 "metadata": {
  "kernelspec": {
   "display_name": "Python 3",
   "language": "python",
   "name": "python3"
  },
  "language_info": {
   "codemirror_mode": {
    "name": "ipython",
    "version": 3
   },
   "file_extension": ".py",
   "mimetype": "text/x-python",
   "name": "python",
   "nbconvert_exporter": "python",
   "pygments_lexer": "ipython3",
   "version": "3.7.1"
  }
 },
 "nbformat": 4,
 "nbformat_minor": 2
}
